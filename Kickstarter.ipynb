{
 "cells": [
  {
   "cell_type": "markdown",
   "metadata": {},
   "source": [
    "Import libraries, then read in the file and clean it up.  Drop campaigns which are still in progress."
   ]
  },
  {
   "cell_type": "code",
   "execution_count": 372,
   "metadata": {},
   "outputs": [],
   "source": [
    "import pandas as pd\n",
    "import matplotlib.pyplot as plt\n",
    "import numpy as np\n",
    "import datetime\n",
    "\n",
    "df = pd.read_csv(r'C:\\Users\\Michael\\OneDrive\\Documents\\Python\\DSI_kickstarterscrape_dataset.csv',encoding='latin1')\n",
    "indexNames=df[df['status']=='live'].index\n",
    "df.drop(indexNames,inplace=True)\n",
    "df = df.replace('Film &amp; Video','Film & Video')"
   ]
  },
  {
   "cell_type": "markdown",
   "metadata": {},
   "source": [
    "Basic exploratory data analysis on pledged amount.  Store average pledge in pledge_mean."
   ]
  },
  {
   "cell_type": "code",
   "execution_count": 313,
   "metadata": {},
   "outputs": [
    {
     "data": {
      "text/plain": [
       "count    4.202800e+04\n",
       "mean     5.120063e+03\n",
       "std      5.903152e+04\n",
       "min      0.000000e+00\n",
       "25%      2.200000e+02\n",
       "50%      1.445000e+03\n",
       "75%      4.397000e+03\n",
       "max      1.026684e+07\n",
       "Name: pledged, dtype: float64"
      ]
     },
     "execution_count": 313,
     "metadata": {},
     "output_type": "execute_result"
    }
   ],
   "source": [
    "df['pledged'].describe()"
   ]
  },
  {
   "cell_type": "code",
   "execution_count": 314,
   "metadata": {},
   "outputs": [
    {
     "data": {
      "text/plain": [
       "5120.063076996288"
      ]
     },
     "execution_count": 314,
     "metadata": {},
     "output_type": "execute_result"
    }
   ],
   "source": [
    "pledge_mean = df['pledged'].mean()\n",
    "pledge_mean"
   ]
  },
  {
   "cell_type": "markdown",
   "metadata": {},
   "source": [
    "Exploratory data analysis and histogram for number of backers.  Note: Some outliers have been removed from the backers data to better visualize the bulk of the data.  The histogram makes it clear that the distribution is skewed to the right (i.e. positive skew)."
   ]
  },
  {
   "cell_type": "code",
   "execution_count": 315,
   "metadata": {},
   "outputs": [
    {
     "data": {
      "text/html": [
       "<div>\n",
       "<style scoped>\n",
       "    .dataframe tbody tr th:only-of-type {\n",
       "        vertical-align: middle;\n",
       "    }\n",
       "\n",
       "    .dataframe tbody tr th {\n",
       "        vertical-align: top;\n",
       "    }\n",
       "\n",
       "    .dataframe thead th {\n",
       "        text-align: right;\n",
       "    }\n",
       "</style>\n",
       "<table border=\"1\" class=\"dataframe\">\n",
       "  <thead>\n",
       "    <tr style=\"text-align: right;\">\n",
       "      <th></th>\n",
       "      <th>backers</th>\n",
       "    </tr>\n",
       "  </thead>\n",
       "  <tbody>\n",
       "    <tr>\n",
       "      <th>count</th>\n",
       "      <td>36354.000000</td>\n",
       "    </tr>\n",
       "    <tr>\n",
       "      <th>mean</th>\n",
       "      <td>26.495379</td>\n",
       "    </tr>\n",
       "    <tr>\n",
       "      <th>std</th>\n",
       "      <td>26.176266</td>\n",
       "    </tr>\n",
       "    <tr>\n",
       "      <th>min</th>\n",
       "      <td>0.000000</td>\n",
       "    </tr>\n",
       "    <tr>\n",
       "      <th>25%</th>\n",
       "      <td>4.000000</td>\n",
       "    </tr>\n",
       "    <tr>\n",
       "      <th>50%</th>\n",
       "      <td>18.000000</td>\n",
       "    </tr>\n",
       "    <tr>\n",
       "      <th>75%</th>\n",
       "      <td>42.000000</td>\n",
       "    </tr>\n",
       "    <tr>\n",
       "      <th>max</th>\n",
       "      <td>100.000000</td>\n",
       "    </tr>\n",
       "  </tbody>\n",
       "</table>\n",
       "</div>"
      ],
      "text/plain": [
       "            backers\n",
       "count  36354.000000\n",
       "mean      26.495379\n",
       "std       26.176266\n",
       "min        0.000000\n",
       "25%        4.000000\n",
       "50%       18.000000\n",
       "75%       42.000000\n",
       "max      100.000000"
      ]
     },
     "execution_count": 315,
     "metadata": {},
     "output_type": "execute_result"
    }
   ],
   "source": [
    "backers = df[['backers']][df['backers'] <= 100]\n",
    "backers.describe()"
   ]
  },
  {
   "cell_type": "code",
   "execution_count": 316,
   "metadata": {},
   "outputs": [
    {
     "data": {
      "text/plain": [
       "array([[<matplotlib.axes._subplots.AxesSubplot object at 0x0000020F525CCB88>]],\n",
       "      dtype=object)"
      ]
     },
     "execution_count": 316,
     "metadata": {},
     "output_type": "execute_result"
    },
    {
     "data": {
      "image/png": "[encoded data removed]",
      "text/plain": [
       "<Figure size 432x288 with 1 Axes>"
      ]
     },
     "metadata": {
      "needs_background": "light"
     },
     "output_type": "display_data"
    }
   ],
   "source": [
    "backers.hist(bins=100)"
   ]
  },
  {
   "cell_type": "markdown",
   "metadata": {},
   "source": [
    "Histogram of the duration variable indicates that the data is not normally distributed.  Rather, the data is concentrated around several \"round\" values, such as 30, 45, 60, and 90 days."
   ]
  },
  {
   "cell_type": "code",
   "execution_count": 317,
   "metadata": {},
   "outputs": [
    {
     "data": {
      "text/plain": [
       "array([[<matplotlib.axes._subplots.AxesSubplot object at 0x0000020F516C9B88>]],\n",
       "      dtype=object)"
      ]
     },
     "execution_count": 317,
     "metadata": {},
     "output_type": "execute_result"
    },
    {
     "data": {
      "image/png": "[encoded data removed]",
      "text/plain": [
       "<Figure size 432x288 with 1 Axes>"
      ]
     },
     "metadata": {
      "needs_background": "light"
     },
     "output_type": "display_data"
    }
   ],
   "source": [
    "df[['duration']].hist(bins=30)"
   ]
  },
  {
   "cell_type": "markdown",
   "metadata": {},
   "source": [
    "We examine both the total pledged amount and the funded percentage as a function of the duration (rounded to integer number of days).  Extreme outliers (receiving more than 500 percent backing) have been removed from the data.  We see that, while very short duration leads to the highest funded percentage, campaigns of around 30-50 days do best in terms of overall backing.  This indicates that A) optimal campaigns should last 30-50 days, and B) short campaigns may be setting their pledge goals a bit too low."
   ]
  },
  {
   "cell_type": "code",
   "execution_count": 334,
   "metadata": {},
   "outputs": [
    {
     "data": {
      "text/html": [
       "<div>\n",
       "<style scoped>\n",
       "    .dataframe tbody tr th:only-of-type {\n",
       "        vertical-align: middle;\n",
       "    }\n",
       "\n",
       "    .dataframe tbody tr th {\n",
       "        vertical-align: top;\n",
       "    }\n",
       "\n",
       "    .dataframe thead th {\n",
       "        text-align: right;\n",
       "    }\n",
       "</style>\n",
       "<table border=\"1\" class=\"dataframe\">\n",
       "  <thead>\n",
       "    <tr style=\"text-align: right;\">\n",
       "      <th></th>\n",
       "      <th>duration</th>\n",
       "      <th>funded percentage</th>\n",
       "      <th>pledged</th>\n",
       "    </tr>\n",
       "  </thead>\n",
       "  <tbody>\n",
       "    <tr>\n",
       "      <th>count</th>\n",
       "      <td>92.00000</td>\n",
       "      <td>92.000000</td>\n",
       "      <td>92.000000</td>\n",
       "    </tr>\n",
       "    <tr>\n",
       "      <th>mean</th>\n",
       "      <td>46.50000</td>\n",
       "      <td>0.770637</td>\n",
       "      <td>3649.857724</td>\n",
       "    </tr>\n",
       "    <tr>\n",
       "      <th>std</th>\n",
       "      <td>26.70206</td>\n",
       "      <td>0.155447</td>\n",
       "      <td>1488.078375</td>\n",
       "    </tr>\n",
       "    <tr>\n",
       "      <th>min</th>\n",
       "      <td>1.00000</td>\n",
       "      <td>0.380392</td>\n",
       "      <td>524.066667</td>\n",
       "    </tr>\n",
       "    <tr>\n",
       "      <th>25%</th>\n",
       "      <td>23.75000</td>\n",
       "      <td>0.649276</td>\n",
       "      <td>2629.120826</td>\n",
       "    </tr>\n",
       "    <tr>\n",
       "      <th>50%</th>\n",
       "      <td>46.50000</td>\n",
       "      <td>0.774709</td>\n",
       "      <td>3637.163906</td>\n",
       "    </tr>\n",
       "    <tr>\n",
       "      <th>75%</th>\n",
       "      <td>69.25000</td>\n",
       "      <td>0.894194</td>\n",
       "      <td>4553.820737</td>\n",
       "    </tr>\n",
       "    <tr>\n",
       "      <th>max</th>\n",
       "      <td>92.00000</td>\n",
       "      <td>1.099058</td>\n",
       "      <td>8020.452138</td>\n",
       "    </tr>\n",
       "  </tbody>\n",
       "</table>\n",
       "</div>"
      ],
      "text/plain": [
       "       duration  funded percentage      pledged\n",
       "count  92.00000          92.000000    92.000000\n",
       "mean   46.50000           0.770637  3649.857724\n",
       "std    26.70206           0.155447  1488.078375\n",
       "min     1.00000           0.380392   524.066667\n",
       "25%    23.75000           0.649276  2629.120826\n",
       "50%    46.50000           0.774709  3637.163906\n",
       "75%    69.25000           0.894194  4553.820737\n",
       "max    92.00000           1.099058  8020.452138"
      ]
     },
     "execution_count": 334,
     "metadata": {},
     "output_type": "execute_result"
    }
   ],
   "source": [
    "indexNames = df[df['funded percentage'] > 5].index\n",
    "df_test = df[['duration','funded percentage','pledged']].drop(indexNames)\n",
    "df_test[['duration']] = round(df_test[['duration']])\n",
    "fundmean = df_test.groupby(['duration'],as_index=False).mean()\n",
    "fundmean.describe()"
   ]
  },
  {
   "cell_type": "code",
   "execution_count": 351,
   "metadata": {},
   "outputs": [
    {
     "data": {
      "text/plain": [
       "Text(0, 0.5, 'Funded Percentage')"
      ]
     },
     "execution_count": 351,
     "metadata": {},
     "output_type": "execute_result"
    },
    {
     "data": {
      "image/png": "[encoded data removed]",
      "text/plain": [
       "<Figure size 432x288 with 1 Axes>"
      ]
     },
     "metadata": {
      "needs_background": "light"
     },
     "output_type": "display_data"
    }
   ],
   "source": [
    "plt.scatter(fundmean['duration'],fundmean['funded percentage'])\n",
    "plt.xlabel('Duration')\n",
    "plt.ylabel('Funded Percentage')"
   ]
  },
  {
   "cell_type": "code",
   "execution_count": 350,
   "metadata": {},
   "outputs": [
    {
     "data": {
      "text/plain": [
       "Text(0, 0.5, 'Average Total Pledged')"
      ]
     },
     "execution_count": 350,
     "metadata": {},
     "output_type": "execute_result"
    },
    {
     "data": {
      "image/png": "[encoded data removed]",
      "text/plain": [
       "<Figure size 432x288 with 1 Axes>"
      ]
     },
     "metadata": {
      "needs_background": "light"
     },
     "output_type": "display_data"
    }
   ],
   "source": [
    "plt.scatter(fundmean['duration'],fundmean['pledged'])\n",
    "plt.xlabel('Duration')\n",
    "plt.ylabel('Average Total Pledged')"
   ]
  },
  {
   "cell_type": "markdown",
   "metadata": {},
   "source": [
    "Considering only at campaigns with duration between 30 and 50 days (which have the best pledge results), we can look at the amount pledged versus the goal (disregarding outliers and binning into \\\\$1000 increments.  The data indicates that the total pledge increases fairly reliably as the goal goes up, until a limit of around \\\\$20,000.  Above goals of \\\\$20,000, the resulting pledge fluctuates wildly, and outcomes become difficult to predict.  As such, the ideal goal for a reliable pledge amount is around \\\\$20,000."
   ]
  },
  {
   "cell_type": "code",
   "execution_count": 349,
   "metadata": {},
   "outputs": [
    {
     "data": {
      "text/plain": [
       "Text(0, 0.5, 'Average Total Pledged')"
      ]
     },
     "execution_count": 349,
     "metadata": {},
     "output_type": "execute_result"
    },
    {
     "data": {
      "image/png": "[encoded data removed]",
      "text/plain": [
       "<Figure size 432x288 with 1 Axes>"
      ]
     },
     "metadata": {
      "needs_background": "light"
     },
     "output_type": "display_data"
    }
   ],
   "source": [
    "indexNames = df[df['duration'] > 50].index\n",
    "df_test = df[['duration','goal','funded percentage','pledged']].drop(indexNames)\n",
    "indexNames = df_test[df_test['duration'] < 30].index\n",
    "df_test.drop(indexNames,inplace=True)\n",
    "indexNames = df_test[df_test['goal'] > 50000].index\n",
    "df_test.drop(indexNames,inplace=True)\n",
    "indexNames = df_test[df_test['funded percentage'] > 5].index\n",
    "df_test.drop(indexNames,inplace=True)\n",
    "\n",
    "bins = np.linspace(0, 50000, 51)\n",
    "df_test['goal-binned'] = pd.cut(df_test['goal'],bins,include_lowest=True)\n",
    "binned = df_test.groupby('goal-binned',as_index=False).mean()\n",
    "binned.head(30)\n",
    "\n",
    "plt.scatter(binned['goal'],binned['pledged'])\n",
    "plt.xlabel('Goal (binned by $1000)')\n",
    "plt.ylabel('Average Total Pledged')"
   ]
  },
  {
   "cell_type": "markdown",
   "metadata": {},
   "source": [
    "We examine the total number of campaigns and number of funded campaigns in each category.  Dance projects have the highest fraction of funded projects, closely followed by theater and music."
   ]
  },
  {
   "cell_type": "code",
   "execution_count": 373,
   "metadata": {},
   "outputs": [
    {
     "data": {
      "text/html": [
       "<div>\n",
       "<style scoped>\n",
       "    .dataframe tbody tr th:only-of-type {\n",
       "        vertical-align: middle;\n",
       "    }\n",
       "\n",
       "    .dataframe tbody tr th {\n",
       "        vertical-align: top;\n",
       "    }\n",
       "\n",
       "    .dataframe thead th {\n",
       "        text-align: right;\n",
       "    }\n",
       "</style>\n",
       "<table border=\"1\" class=\"dataframe\">\n",
       "  <thead>\n",
       "    <tr style=\"text-align: right;\">\n",
       "      <th></th>\n",
       "      <th>total</th>\n",
       "      <th>funded</th>\n",
       "      <th>fraction</th>\n",
       "    </tr>\n",
       "  </thead>\n",
       "  <tbody>\n",
       "    <tr>\n",
       "      <th>Dance</th>\n",
       "      <td>707</td>\n",
       "      <td>493</td>\n",
       "      <td>0.697313</td>\n",
       "    </tr>\n",
       "    <tr>\n",
       "      <th>Theater</th>\n",
       "      <td>2322</td>\n",
       "      <td>1565</td>\n",
       "      <td>0.673988</td>\n",
       "    </tr>\n",
       "    <tr>\n",
       "      <th>Music</th>\n",
       "      <td>10062</td>\n",
       "      <td>6534</td>\n",
       "      <td>0.649374</td>\n",
       "    </tr>\n",
       "    <tr>\n",
       "      <th>Art</th>\n",
       "      <td>3691</td>\n",
       "      <td>2020</td>\n",
       "      <td>0.547277</td>\n",
       "    </tr>\n",
       "    <tr>\n",
       "      <th>Comics</th>\n",
       "      <td>968</td>\n",
       "      <td>510</td>\n",
       "      <td>0.526860</td>\n",
       "    </tr>\n",
       "    <tr>\n",
       "      <th>Food</th>\n",
       "      <td>1301</td>\n",
       "      <td>643</td>\n",
       "      <td>0.494235</td>\n",
       "    </tr>\n",
       "    <tr>\n",
       "      <th>Film &amp; Video</th>\n",
       "      <td>12619</td>\n",
       "      <td>6129</td>\n",
       "      <td>0.485696</td>\n",
       "    </tr>\n",
       "    <tr>\n",
       "      <th>Design</th>\n",
       "      <td>1570</td>\n",
       "      <td>716</td>\n",
       "      <td>0.456051</td>\n",
       "    </tr>\n",
       "    <tr>\n",
       "      <th>Photography</th>\n",
       "      <td>1387</td>\n",
       "      <td>620</td>\n",
       "      <td>0.447008</td>\n",
       "    </tr>\n",
       "    <tr>\n",
       "      <th>Games</th>\n",
       "      <td>1477</td>\n",
       "      <td>632</td>\n",
       "      <td>0.427894</td>\n",
       "    </tr>\n",
       "    <tr>\n",
       "      <th>Publishing</th>\n",
       "      <td>4165</td>\n",
       "      <td>1601</td>\n",
       "      <td>0.384394</td>\n",
       "    </tr>\n",
       "    <tr>\n",
       "      <th>Technology</th>\n",
       "      <td>740</td>\n",
       "      <td>284</td>\n",
       "      <td>0.383784</td>\n",
       "    </tr>\n",
       "    <tr>\n",
       "      <th>Fashion</th>\n",
       "      <td>1019</td>\n",
       "      <td>322</td>\n",
       "      <td>0.315996</td>\n",
       "    </tr>\n",
       "  </tbody>\n",
       "</table>\n",
       "</div>"
      ],
      "text/plain": [
       "              total  funded  fraction\n",
       "Dance           707     493  0.697313\n",
       "Theater        2322    1565  0.673988\n",
       "Music         10062    6534  0.649374\n",
       "Art            3691    2020  0.547277\n",
       "Comics          968     510  0.526860\n",
       "Food           1301     643  0.494235\n",
       "Film & Video  12619    6129  0.485696\n",
       "Design         1570     716  0.456051\n",
       "Photography    1387     620  0.447008\n",
       "Games          1477     632  0.427894\n",
       "Publishing     4165    1601  0.384394\n",
       "Technology      740     284  0.383784\n",
       "Fashion        1019     322  0.315996"
      ]
     },
     "execution_count": 373,
     "metadata": {},
     "output_type": "execute_result"
    }
   ],
   "source": [
    "categories = df['category'].value_counts().to_frame()\n",
    "funded = df['category'][df['funded percentage'] > 1]\n",
    "funded_count = funded.value_counts().to_frame()\n",
    "new_categories = categories.merge(funded_count,right_index=True,left_index=True)\n",
    "new_categories.rename(columns={'category_x':'total', 'category_y':'funded'},inplace=True)\n",
    "new_categories['fraction'] = new_categories['funded']/new_categories['total']\n",
    "new_categories.sort_values(by=['fraction'],ascending=False)"
   ]
  },
  {
   "cell_type": "markdown",
   "metadata": {},
   "source": [
    "We first convert the funded date to the start date by subtracting the duration.  Then we extract the month, day, and hour as separate variables.  We examine the percentage of campaigns funded for every month, day of the month, and hour of the day.  The data indicates that one should start their campaign sometime from February to April, at the beginning of the month, sometime in the mid-afternoon (around 3pm)."
   ]
  },
  {
   "cell_type": "code",
   "execution_count": 337,
   "metadata": {},
   "outputs": [],
   "source": [
    "df['funded date'] = pd.to_datetime(df['funded date'])\n",
    "df['start date'] = df['funded date'] - pd.to_timedelta(df['duration'],unit = 'D')\n",
    "df['month'] = pd.DatetimeIndex(df['start date']).month\n",
    "df['day'] = pd.DatetimeIndex(df['start date']).day\n",
    "df['hour'] = pd.DatetimeIndex(df['start date']).hour"
   ]
  },
  {
   "cell_type": "code",
   "execution_count": 343,
   "metadata": {},
   "outputs": [
    {
     "data": {
      "text/plain": [
       "Text(0, 0.5, 'Fraction Funded')"
      ]
     },
     "execution_count": 343,
     "metadata": {},
     "output_type": "execute_result"
    },
    {
     "data": {
      "image/png": "[encoded data removed]",
      "text/plain": [
       "<Figure size 432x288 with 1 Axes>"
      ]
     },
     "metadata": {
      "needs_background": "light"
     },
     "output_type": "display_data"
    }
   ],
   "source": [
    "months = df['month'].value_counts().to_frame()\n",
    "funded = df['month'][df['funded percentage'] > 1]\n",
    "funded_count = funded.value_counts().to_frame()\n",
    "new_months = months.merge(funded_count,right_index=True,left_index=True)\n",
    "new_months.rename(columns={'month_x':'total', 'month_y':'funded'},inplace=True)\n",
    "new_months['fraction'] = new_months['funded']/new_months['total']\n",
    "plt.scatter(new_months.index.values,new_months['fraction'])\n",
    "plt.xlabel('Month')\n",
    "plt.ylabel('Fraction Funded')"
   ]
  },
  {
   "cell_type": "code",
   "execution_count": 344,
   "metadata": {},
   "outputs": [
    {
     "data": {
      "text/plain": [
       "Text(0, 0.5, 'Fraction Funded')"
      ]
     },
     "execution_count": 344,
     "metadata": {},
     "output_type": "execute_result"
    },
    {
     "data": {
      "image/png": "[encoded data removed]",
      "text/plain": [
       "<Figure size 432x288 with 1 Axes>"
      ]
     },
     "metadata": {
      "needs_background": "light"
     },
     "output_type": "display_data"
    }
   ],
   "source": [
    "days = df['day'].value_counts().to_frame()\n",
    "funded = df['day'][df['funded percentage'] > 1]\n",
    "funded_count = funded.value_counts().to_frame()\n",
    "new_days = days.merge(funded_count,right_index=True,left_index=True)\n",
    "new_days.rename(columns={'day_x':'total', 'day_y':'funded'},inplace=True)\n",
    "new_days['fraction'] = new_days['funded']/new_days['total']\n",
    "plt.scatter(new_days.index.values,new_days['fraction'])\n",
    "plt.xlabel('Day of Month')\n",
    "plt.ylabel('Fraction Funded')"
   ]
  },
  {
   "cell_type": "code",
   "execution_count": 345,
   "metadata": {},
   "outputs": [
    {
     "data": {
      "text/plain": [
       "Text(0, 0.5, 'Fraction Funded')"
      ]
     },
     "execution_count": 345,
     "metadata": {},
     "output_type": "execute_result"
    },
    {
     "data": {
      "image/png": "[encoded data removed]",
      "text/plain": [
       "<Figure size 432x288 with 1 Axes>"
      ]
     },
     "metadata": {
      "needs_background": "light"
     },
     "output_type": "display_data"
    }
   ],
   "source": [
    "hours = df['hour'].value_counts().to_frame()\n",
    "funded = df['hour'][df['funded percentage'] > 1]\n",
    "funded_count = funded.value_counts().to_frame()\n",
    "new_hours = hours.merge(funded_count,right_index=True,left_index=True)\n",
    "new_hours.rename(columns={'hour_x':'total', 'hour_y':'funded'},inplace=True)\n",
    "new_hours['fraction'] = new_hours['funded']/new_hours['total']\n",
    "plt.scatter(new_hours.index.values,new_hours['fraction'])\n",
    "plt.xlabel('Time')\n",
    "plt.ylabel('Fraction Funded')"
   ]
  },
  {
   "cell_type": "code",
   "execution_count": null,
   "metadata": {},
   "outputs": [],
   "source": []
  }
 ],
 "metadata": {
  "kernelspec": {
   "display_name": "Python 3",
   "language": "python",
   "name": "python3"
  },
  "language_info": {
   "codemirror_mode": {
    "name": "ipython",
    "version": 3
   },
   "file_extension": ".py",
   "mimetype": "text/x-python",
   "name": "python",
   "nbconvert_exporter": "python",
   "pygments_lexer": "ipython3",
   "version": "3.7.4"
  }
 },
 "nbformat": 4,
 "nbformat_minor": 4
}
